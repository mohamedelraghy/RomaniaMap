{
 "cells": [
  {
   "cell_type": "code",
   "execution_count": 29,
   "metadata": {},
   "outputs": [
    {
     "name": "stdout",
     "output_type": "stream",
     "text": [
      "20\n"
     ]
    }
   ],
   "source": [
    "cities = ['arad', 'zerind', 'sibiu', 'timisoara', 'oradea', 'fagaras', 'rimnicu vlicea', 'lugoj', 'mehadia','drobeta','craiova', 'pitesti', 'bucharest','giurgiu','urziceni','hirsova', 'eforie','vaslui','lasi','neamt']\n",
    "print(len(cities))"
   ]
  },
  {
   "cell_type": "code",
   "execution_count": 32,
   "metadata": {},
   "outputs": [
    {
     "name": "stdout",
     "output_type": "stream",
     "text": [
      "Following is DFS from (starting from vertex 2)\n",
      "7\n",
      "-> sibiu-> oradea-> fagaras-> rimnicu vlicea"
     ]
    }
   ],
   "source": [
    "# Python3 program to print DFS traversal  \n",
    "from collections import defaultdict \n",
    "\n",
    "# This class represents a directed graph using \n",
    "# adjacency list representation \n",
    "class Graph: \n",
    "\n",
    "    # Constructor \n",
    "    def __init__(self): \n",
    "\n",
    "        # default dictionary to store graph \n",
    "        self.graph = defaultdict(list) \n",
    "\n",
    "    # function to add an edge to graph \n",
    "    def addEdge(self, u, v): \n",
    "        self.graph[u].append(v) \n",
    "\n",
    "    # A function used by DFS \n",
    "    def DFSUtil(self, v, visited): \n",
    "\n",
    "        # Mark the current node as visited \n",
    "        # and print it \n",
    "        visited[v] = True\n",
    "        print('->',cities[v], end ='') \n",
    "\n",
    "        # Recur for all the vertices \n",
    "        # adjacent to this vertex \n",
    "        for i in self.graph[v]: \n",
    "            if visited[i] == False: \n",
    "                self.DFSUtil(i, visited) \n",
    "\n",
    "    # The function to do DFS traversal. It uses \n",
    "    # recursive DFSUtil() \n",
    "    def DFS(self, v): \n",
    "\n",
    "        # Mark all the vertices as not visited \n",
    "        visited = [False] * (max(self.graph)+1)\n",
    "        print(max(self.graph))\n",
    "        \n",
    "\n",
    "        # Call the recursive helper function \n",
    "        # to print DFS traversal \n",
    "        self.DFSUtil(v, visited) \n",
    "\n",
    "# Driver code \n",
    "\n",
    "# Create a graph given \n",
    "# in the above diagram \n",
    "Romania_map = Graph() \n",
    "g.addEdge(0, 1) \n",
    "g.addEdge(0, 2) \n",
    "g.addEdge(0, 3) \n",
    "g.addEdge(1, 4) \n",
    "g.addEdge(2, 4) \n",
    "g.addEdge(2, 5)\n",
    "g.addEdge(2, 6)\n",
    "g.addEdge(7, 2)\n",
    "\n",
    "\n",
    "print(\"Following is DFS from (starting from vertex 2)\") \n",
    "g.DFS(2) \n",
    "\n",
    "# This code is contributed by Neelam Yadav \n"
   ]
  },
  {
   "cell_type": "code",
   "execution_count": null,
   "metadata": {},
   "outputs": [],
   "source": []
  },
  {
   "cell_type": "code",
   "execution_count": null,
   "metadata": {},
   "outputs": [],
   "source": []
  }
 ],
 "metadata": {
  "kernelspec": {
   "display_name": "Python 3",
   "language": "python",
   "name": "python3"
  },
  "language_info": {
   "codemirror_mode": {
    "name": "ipython",
    "version": 3
   },
   "file_extension": ".py",
   "mimetype": "text/x-python",
   "name": "python",
   "nbconvert_exporter": "python",
   "pygments_lexer": "ipython3",
   "version": "3.7.3"
  }
 },
 "nbformat": 4,
 "nbformat_minor": 2
}

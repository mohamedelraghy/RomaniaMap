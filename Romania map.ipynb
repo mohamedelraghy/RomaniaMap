{
 "cells": [
  {
   "cell_type": "markdown",
   "metadata": {},
   "source": [
    "# Solve the routing problem for Romania map using the Depth-First-Search Algorithm :"
   ]
  },
  {
   "cell_type": "markdown",
   "metadata": {},
   "source": [
    "**Detrime the route between tow cities  in Romania map**"
   ]
  },
  {
   "cell_type": "code",
   "execution_count": 1,
   "metadata": {},
   "outputs": [],
   "source": [
    "cities = ['arad', 'zerind', 'sibiu', 'timisoara', 'oradea', 'fagaras', 'rimnicu vlicea', 'lugoj', 'mehadia','drobeta','craiova', 'pitesti', 'bucharest','giurgiu','urziceni','hirsova', 'eforie','vaslui','lasi','neamt']"
   ]
  },
  {
   "cell_type": "code",
   "execution_count": 46,
   "metadata": {},
   "outputs": [
    {
     "name": "stdout",
     "output_type": "stream",
     "text": [
      "Following is DFS from (starting from vertex 2)\n"
     ]
    }
   ],
   "source": [
    "from collections import defaultdict \n",
    "\n",
    "# This class represents a directed graph using \n",
    "# adjacency list representation \n",
    "class Graph: \n",
    "\n",
    "    # Constructor \n",
    "    def __init__(self): \n",
    "\n",
    "        # default dictionary to store graph \n",
    "        self.graph = defaultdict(list) \n",
    "\n",
    "    # function to add an edge to graph \n",
    "    def addEdge(self, u, v): \n",
    "        self.graph[u].append(v) \n",
    "\n",
    "    # A function used by DFS \n",
    "    def DFSUtil(self, v, target, visited, path): \n",
    "\n",
    "        # Mark the current node as visited \n",
    "        # and print it \n",
    "        visited[v] = True\n",
    "        path.append(v)\n",
    "       \n",
    "        if v == target: \n",
    "            for index in path:\n",
    "                print('->', cities[index].capitalize(), end = \"\")\n",
    "        else: \n",
    "        # Recur for all the vertices \n",
    "        # adjacent to this vertex \n",
    "            for i in self.graph[v]: \n",
    "                if visited[i] == False:\n",
    "                    self.DFSUtil(i, target, visited, path) \n",
    "               \n",
    "    # The function to do DFS traversal. It uses \n",
    "    # recursive DFSUtil() \n",
    "    def DFS(self, v, target): \n",
    "\n",
    "        # Mark all the vertices as not visited \n",
    "        visited = [False] * (len(cities))\n",
    "        path = []\n",
    "        \n",
    "\n",
    "        # Call the recursive helper function \n",
    "        # to print DFS traversal \n",
    "        self.DFSUtil(v, target, visited, path) \n",
    "\n",
    "# Driver code \n",
    "\n",
    "# Create a graph given \n",
    "# in the above diagram \n",
    "Romania_map = Graph()\n",
    "\n",
    "Romania_map.addEdge(0, 1)\n",
    "Romania_map.addEdge(0, 2)\n",
    "Romania_map.addEdge(0, 3)\n",
    "Romania_map.addEdge(1, 4)\n",
    "Romania_map.addEdge(2, 4)\n",
    "Romania_map.addEdge(2, 5)\n",
    "Romania_map.addEdge(2, 6)\n",
    "Romania_map.addEdge(3, 7)\n",
    "Romania_map.addEdge(5,12)\n",
    "Romania_map.addEdge(6, 10)\n",
    "Romania_map.addEdge(6, 11)\n",
    "Romania_map.addEdge(7, 8)\n",
    "Romania_map.addEdge(8, 9)\n",
    "Romania_map.addEdge(9, 10)\n",
    "Romania_map.addEdge(10, 11)\n",
    "Romania_map.addEdge(11, 12)\n",
    "Romania_map.addEdge(12, 13)\n",
    "Romania_map.addEdge(12, 14)\n",
    "Romania_map.addEdge(14, 15)\n",
    "Romania_map.addEdge(14, 17)\n",
    "Romania_map.addEdge(15, 16)\n",
    "Romania_map.addEdge(17, 18)\n",
    "Romania_map.addEdge(18, 19)\n",
    "\n",
    "\n",
    "\n",
    "\n",
    "print(\"Following is DFS from (starting from vertex 2)\") \n",
    "\n",
    "# This code is contributed by Neelam Yadav \n"
   ]
  },
  {
   "cell_type": "code",
   "execution_count": 30,
   "metadata": {},
   "outputs": [
    {
     "data": {
      "text/plain": [
       "3"
      ]
     },
     "execution_count": 30,
     "metadata": {},
     "output_type": "execute_result"
    }
   ],
   "source": [
    "cities.index('timisoara')"
   ]
  },
  {
   "cell_type": "code",
   "execution_count": 42,
   "metadata": {},
   "outputs": [
    {
     "name": "stdout",
     "output_type": "stream",
     "text": [
      "Enter source and Target cities to know the route between them from these cities\n",
      "Arad\n",
      "Zerind\n",
      "Sibiu\n",
      "Timisoara\n",
      "Oradea\n",
      "Fagaras\n",
      "Rimnicu vlicea\n",
      "Lugoj\n",
      "Mehadia\n",
      "Drobeta\n",
      "Craiova\n",
      "Pitesti\n",
      "Bucharest\n",
      "Giurgiu\n",
      "Urziceni\n",
      "Hirsova\n",
      "Eforie\n",
      "Vaslui\n",
      "Lasi\n",
      "Neamt\n",
      "\n",
      "\n",
      "\n",
      "Sorce City: Arad\n",
      "Target City: Bu\n",
      "Enter correct city name\n",
      "Sorce City: Arad\n",
      "Target City: Bucharest\n"
     ]
    }
   ],
   "source": [
    "print('Enter source and Target cities to know the route between them from these cities')\n",
    "for city in cities: \n",
    "    print(city.capitalize())\n",
    "    \n",
    "print('\\n\\n')\n",
    "\n",
    "\n",
    "while True :\n",
    "    source = input('Sorce City: ').lower()\n",
    "    target = input('Target City: ').lower()\n",
    "    if source in cities and target in cities: break\n",
    "    print(\"Enter correct city name\")\n"
   ]
  },
  {
   "cell_type": "code",
   "execution_count": 47,
   "metadata": {},
   "outputs": [
    {
     "name": "stdout",
     "output_type": "stream",
     "text": [
      "-> Arad-> Zerind-> Oradea-> Sibiu-> Fagaras-> Bucharest"
     ]
    }
   ],
   "source": [
    "Romania_map.DFS(cities.index(source), cities.index(target))"
   ]
  },
  {
   "cell_type": "code",
   "execution_count": null,
   "metadata": {},
   "outputs": [],
   "source": []
  }
 ],
 "metadata": {
  "kernelspec": {
   "display_name": "Python 3",
   "language": "python",
   "name": "python3"
  },
  "language_info": {
   "codemirror_mode": {
    "name": "ipython",
    "version": 3
   },
   "file_extension": ".py",
   "mimetype": "text/x-python",
   "name": "python",
   "nbconvert_exporter": "python",
   "pygments_lexer": "ipython3",
   "version": "3.7.3"
  }
 },
 "nbformat": 4,
 "nbformat_minor": 2
}
